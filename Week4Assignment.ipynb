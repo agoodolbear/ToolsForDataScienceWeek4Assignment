{
  "metadata": {
    "language_info": {
      "codemirror_mode": {
        "name": "python",
        "version": 3
      },
      "file_extension": ".py",
      "mimetype": "text/x-python",
      "name": "python",
      "nbconvert_exporter": "python",
      "pygments_lexer": "ipython3",
      "version": "3.8"
    },
    "kernelspec": {
      "name": "python",
      "display_name": "Python (Pyodide)",
      "language": "python"
    }
  },
  "nbformat_minor": 4,
  "nbformat": 4,
  "cells": [
    {
      "cell_type": "markdown",
      "source": "<h1>My Jupyter Notebook on IBM Watson Studio<h1>",
      "metadata": {}
    },
    {
      "cell_type": "markdown",
      "source": "<b>Michelle Matowski</b><br>\nSoftware Engineer",
      "metadata": {}
    },
    {
      "cell_type": "markdown",
      "source": "<i>I am interedted in data science because I deal with diagnostic data and I would like to see if I can make predictions based on data.<i>",
      "metadata": {}
    },
    {
      "cell_type": "markdown",
      "source": "<h3>My code is supposed to add 1 to 1 and have a result of 2.<h3>",
      "metadata": {}
    },
    {
      "cell_type": "code",
      "source": "1+1",
      "metadata": {
        "trusted": true
      },
      "execution_count": 1,
      "outputs": [
        {
          "execution_count": 1,
          "output_type": "execute_result",
          "data": {
            "text/plain": "2"
          },
          "metadata": {}
        }
      ]
    },
    {
      "cell_type": "markdown",
      "source": "<a href=\"www.google.com\">Hyperlink</a>\n<hr>\n<strike>Strike<strike>",
      "metadata": {}
    }
  ]
}
